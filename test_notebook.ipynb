{
 "cells": [
  {
   "cell_type": "code",
   "execution_count": 1,
   "metadata": {},
   "outputs": [],
   "source": [
    "import pandas as pd\n"
   ]
  },
  {
   "cell_type": "code",
   "execution_count": 3,
   "metadata": {},
   "outputs": [
    {
     "data": {
      "text/plain": [
       "Index(['userId', '10 Things I Hate About You ', '12 Angry Men ',\n",
       "       '2001: A Space Odyssey ', '28 Days Later ', '300 ',\n",
       "       '40-Year-Old Virgin, The ', 'A.I. Artificial Intelligence ',\n",
       "       'Abyss, The ', 'Ace Ventura: Pet Detective ',\n",
       "       ...\n",
       "       'Willy Wonka & the Chocolate Factory ', 'Wizard of Oz, The ',\n",
       "       'Wolf of Wall Street, The ', 'X-Men ', 'X-Men: The Last Stand ',\n",
       "       'X2: X-Men United ', 'You've Got Mail ', 'Young Frankenstein ',\n",
       "       'Zombieland ', 'Zoolander '],\n",
       "      dtype='object', length=458)"
      ]
     },
     "execution_count": 3,
     "metadata": {},
     "output_type": "execute_result"
    }
   ],
   "source": [
    "pd.read_csv('user_item.csv').columns"
   ]
  }
 ],
 "metadata": {
  "kernelspec": {
   "display_name": "Python 3",
   "language": "python",
   "name": "python3"
  },
  "language_info": {
   "codemirror_mode": {
    "name": "ipython",
    "version": 3
   },
   "file_extension": ".py",
   "mimetype": "text/x-python",
   "name": "python",
   "nbconvert_exporter": "python",
   "pygments_lexer": "ipython3",
   "version": "3.9.13"
  },
  "orig_nbformat": 4
 },
 "nbformat": 4,
 "nbformat_minor": 2
}
