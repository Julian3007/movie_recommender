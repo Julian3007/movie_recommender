{
 "cells": [
  {
   "cell_type": "code",
   "execution_count": 1,
   "metadata": {},
   "outputs": [],
   "source": [
    "import pandas as pd"
   ]
  },
  {
   "cell_type": "code",
   "execution_count": 17,
   "metadata": {},
   "outputs": [
    {
     "data": {
      "text/plain": [
       "0     4.0\n",
       "1     3.0\n",
       "2     NaN\n",
       "3     4.0\n",
       "4     NaN\n",
       "5     4.0\n",
       "6     3.5\n",
       "7     5.0\n",
       "8     5.0\n",
       "9     4.0\n",
       "10    5.0\n",
       "11    3.5\n",
       "12    5.0\n",
       "13    5.0\n",
       "14    5.0\n",
       "15    4.0\n",
       "16    3.5\n",
       "17    2.0\n",
       "18    4.0\n",
       "19    4.0\n",
       "20    5.0\n",
       "21    3.5\n",
       "22    5.0\n",
       "23    3.0\n",
       "24    3.0\n",
       "25    4.5\n",
       "26    3.5\n",
       "Name: Twelve Monkeys (a.k.a. 12 Monkeys) , dtype: float64"
      ]
     },
     "execution_count": 17,
     "metadata": {},
     "output_type": "execute_result"
    }
   ],
   "source": [
    "pd.read_csv('../user_item.csv')['Twelve Monkeys (a.k.a. 12 Monkeys) ']"
   ]
  }
 ],
 "metadata": {
  "kernelspec": {
   "display_name": "Python 3",
   "language": "python",
   "name": "python3"
  },
  "language_info": {
   "codemirror_mode": {
    "name": "ipython",
    "version": 3
   },
   "file_extension": ".py",
   "mimetype": "text/x-python",
   "name": "python",
   "nbconvert_exporter": "python",
   "pygments_lexer": "ipython3",
   "version": "3.9.13"
  },
  "orig_nbformat": 4
 },
 "nbformat": 4,
 "nbformat_minor": 2
}
